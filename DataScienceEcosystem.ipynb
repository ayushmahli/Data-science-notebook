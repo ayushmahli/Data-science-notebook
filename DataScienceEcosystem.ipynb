{
 "cells": [
  {
   "cell_type": "markdown",
   "id": "59c46f9d-2734-400e-9ac9-836b8c3fb437",
   "metadata": {},
   "source": [
    "# Data Science tools and ecosystem"
   ]
  },
  {
   "cell_type": "markdown",
   "id": "486ca0a8-1614-4967-b111-ef8712f9d79b",
   "metadata": {},
   "source": [
    "In this notebook, Data Science Tools and Ecosystem are summarized."
   ]
  },
  {
   "cell_type": "markdown",
   "id": "4ac04b99-346b-466b-8652-ae4f00cbc1b3",
   "metadata": {},
   "source": [
    "**Objectives:**\n",
    "\n",
    "- List popular languages for Data Science  \n",
    "- List commonly used libraries in Data Science  \n",
    "- Create and format Markdown cells  \n",
    "- Create and evaluate arithmetic expressions using code cells  \n",
    "- Create tables in Markdown "
   ]
  },
  {
   "cell_type": "markdown",
   "id": "44f444e6-874d-456c-a301-2489127c7d1f",
   "metadata": {},
   "source": [
    "Some of the popular languages that Data Scientists use are:\r\n",
    "\r\n",
    "1. Python  \r\n",
    "2. R  \r\n",
    "3. SQL  \r\n",
    "4. Julia  \r\n"
   ]
  },
  {
   "cell_type": "markdown",
   "id": "4ecb8ea9-b2bd-4fdc-936e-a30294ba4e89",
   "metadata": {},
   "source": [
    "Some of the commonly used libraries used by Data Scientists include:\r\n",
    "\r\n",
    "1. Pandas  \r\n",
    "2. NumPy  \r\n",
    "3. Matplotlib  \r\n",
    "4. Scikit-learn  \r\n",
    "5. TensorFlow "
   ]
  },
  {
   "cell_type": "markdown",
   "id": "524b7c53-7083-44cf-9a9a-30199597da0b",
   "metadata": {},
   "source": [
    "| Data Science Tools         |\r\n",
    "|----------------------------|\r\n",
    "| Jupyter Notebook           |\r\n",
    "| RStudio                    |\r\n",
    "| VS Code                    |"
   ]
  },
  {
   "cell_type": "markdown",
   "id": "173208a5-d06b-4f4e-b29e-55ed5bb3082d",
   "metadata": {},
   "source": [
    "### Below are few examples of evaluating arithematic operations in python"
   ]
  },
  {
   "cell_type": "code",
   "execution_count": 2,
   "id": "21eca7eb-3ed3-4043-9aa3-77b9b457aea7",
   "metadata": {},
   "outputs": [
    {
     "data": {
      "text/plain": [
       "17"
      ]
     },
     "execution_count": 2,
     "metadata": {},
     "output_type": "execute_result"
    }
   ],
   "source": [
    "# This is a simple arithmetic expression to multiply then add integers\n",
    "(3 * 4) + 5"
   ]
  },
  {
   "cell_type": "code",
   "execution_count": 3,
   "id": "097b99d7-43e9-4bfe-a457-ac1e403f77a6",
   "metadata": {},
   "outputs": [
    {
     "data": {
      "text/plain": [
       "3.3333333333333335"
      ]
     },
     "execution_count": 3,
     "metadata": {},
     "output_type": "execute_result"
    }
   ],
   "source": [
    "# This will convert 200 minutes to hours by dividing by 60\n",
    "200 / 60"
   ]
  },
  {
   "cell_type": "markdown",
   "id": "ea17dcbb-e586-47e8-99aa-8bcab4126c8f",
   "metadata": {},
   "source": [
    "## Author\n",
    "Ayush Kumar Mahli"
   ]
  },
  {
   "cell_type": "code",
   "execution_count": null,
   "id": "fb563c83-9149-4647-b738-513edfce5336",
   "metadata": {},
   "outputs": [],
   "source": []
  }
 ],
 "metadata": {
  "kernelspec": {
   "display_name": "Python 3 (ipykernel)",
   "language": "python",
   "name": "python3"
  },
  "language_info": {
   "codemirror_mode": {
    "name": "ipython",
    "version": 3
   },
   "file_extension": ".py",
   "mimetype": "text/x-python",
   "name": "python",
   "nbconvert_exporter": "python",
   "pygments_lexer": "ipython3",
   "version": "3.11.7"
  }
 },
 "nbformat": 4,
 "nbformat_minor": 5
}
